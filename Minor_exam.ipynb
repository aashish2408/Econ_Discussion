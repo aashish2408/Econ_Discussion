{
 "cells": [
  {
   "cell_type": "code",
   "execution_count": 368,
   "id": "9a041a3e-9b40-4c68-b211-19aaf661e516",
   "metadata": {},
   "outputs": [],
   "source": [
    "import numpy as np\n",
    "import pandas as pd\n",
    "import statsmodels.api as sm\n",
    "from scipy.stats import stats"
   ]
  },
  {
   "cell_type": "code",
   "execution_count": 370,
   "id": "0cf0e423-6703-460b-9f97-6c8200216f22",
   "metadata": {},
   "outputs": [],
   "source": [
    "df = pd.read_csv(\"MROZ.csv\")"
   ]
  },
  {
   "cell_type": "code",
   "execution_count": 372,
   "id": "8953b9f9-7e94-4876-8da6-653b585cc286",
   "metadata": {},
   "outputs": [
    {
     "data": {
      "text/html": [
       "<div>\n",
       "<style scoped>\n",
       "    .dataframe tbody tr th:only-of-type {\n",
       "        vertical-align: middle;\n",
       "    }\n",
       "\n",
       "    .dataframe tbody tr th {\n",
       "        vertical-align: top;\n",
       "    }\n",
       "\n",
       "    .dataframe thead th {\n",
       "        text-align: right;\n",
       "    }\n",
       "</style>\n",
       "<table border=\"1\" class=\"dataframe\">\n",
       "  <thead>\n",
       "    <tr style=\"text-align: right;\">\n",
       "      <th></th>\n",
       "      <th>inlf</th>\n",
       "      <th>hours</th>\n",
       "      <th>kidslt6</th>\n",
       "      <th>kidsge6</th>\n",
       "      <th>age</th>\n",
       "      <th>educ</th>\n",
       "      <th>wage</th>\n",
       "      <th>repwage</th>\n",
       "      <th>hushrs</th>\n",
       "      <th>husage</th>\n",
       "      <th>...</th>\n",
       "      <th>faminc</th>\n",
       "      <th>mtr</th>\n",
       "      <th>motheduc</th>\n",
       "      <th>fatheduc</th>\n",
       "      <th>unem</th>\n",
       "      <th>city</th>\n",
       "      <th>exper</th>\n",
       "      <th>nwifeinc</th>\n",
       "      <th>lwage</th>\n",
       "      <th>expersq</th>\n",
       "    </tr>\n",
       "  </thead>\n",
       "  <tbody>\n",
       "    <tr>\n",
       "      <th>0</th>\n",
       "      <td>1</td>\n",
       "      <td>1610</td>\n",
       "      <td>1</td>\n",
       "      <td>0</td>\n",
       "      <td>32</td>\n",
       "      <td>12</td>\n",
       "      <td>3.3540</td>\n",
       "      <td>2.65</td>\n",
       "      <td>2708</td>\n",
       "      <td>34</td>\n",
       "      <td>...</td>\n",
       "      <td>16310</td>\n",
       "      <td>0.7215</td>\n",
       "      <td>12</td>\n",
       "      <td>7</td>\n",
       "      <td>5.0</td>\n",
       "      <td>0</td>\n",
       "      <td>14</td>\n",
       "      <td>10.910060</td>\n",
       "      <td>1.210154</td>\n",
       "      <td>196</td>\n",
       "    </tr>\n",
       "    <tr>\n",
       "      <th>1</th>\n",
       "      <td>1</td>\n",
       "      <td>1656</td>\n",
       "      <td>0</td>\n",
       "      <td>2</td>\n",
       "      <td>30</td>\n",
       "      <td>12</td>\n",
       "      <td>1.3889</td>\n",
       "      <td>2.65</td>\n",
       "      <td>2310</td>\n",
       "      <td>30</td>\n",
       "      <td>...</td>\n",
       "      <td>21800</td>\n",
       "      <td>0.6615</td>\n",
       "      <td>7</td>\n",
       "      <td>7</td>\n",
       "      <td>11.0</td>\n",
       "      <td>1</td>\n",
       "      <td>5</td>\n",
       "      <td>19.499981</td>\n",
       "      <td>0.328512</td>\n",
       "      <td>25</td>\n",
       "    </tr>\n",
       "    <tr>\n",
       "      <th>2</th>\n",
       "      <td>1</td>\n",
       "      <td>1980</td>\n",
       "      <td>1</td>\n",
       "      <td>3</td>\n",
       "      <td>35</td>\n",
       "      <td>12</td>\n",
       "      <td>4.5455</td>\n",
       "      <td>4.04</td>\n",
       "      <td>3072</td>\n",
       "      <td>40</td>\n",
       "      <td>...</td>\n",
       "      <td>21040</td>\n",
       "      <td>0.6915</td>\n",
       "      <td>12</td>\n",
       "      <td>7</td>\n",
       "      <td>5.0</td>\n",
       "      <td>0</td>\n",
       "      <td>15</td>\n",
       "      <td>12.039910</td>\n",
       "      <td>1.514138</td>\n",
       "      <td>225</td>\n",
       "    </tr>\n",
       "    <tr>\n",
       "      <th>3</th>\n",
       "      <td>1</td>\n",
       "      <td>456</td>\n",
       "      <td>0</td>\n",
       "      <td>3</td>\n",
       "      <td>34</td>\n",
       "      <td>12</td>\n",
       "      <td>1.0965</td>\n",
       "      <td>3.25</td>\n",
       "      <td>1920</td>\n",
       "      <td>53</td>\n",
       "      <td>...</td>\n",
       "      <td>7300</td>\n",
       "      <td>0.7815</td>\n",
       "      <td>7</td>\n",
       "      <td>7</td>\n",
       "      <td>5.0</td>\n",
       "      <td>0</td>\n",
       "      <td>6</td>\n",
       "      <td>6.799996</td>\n",
       "      <td>0.092123</td>\n",
       "      <td>36</td>\n",
       "    </tr>\n",
       "    <tr>\n",
       "      <th>4</th>\n",
       "      <td>1</td>\n",
       "      <td>1568</td>\n",
       "      <td>1</td>\n",
       "      <td>2</td>\n",
       "      <td>31</td>\n",
       "      <td>14</td>\n",
       "      <td>4.5918</td>\n",
       "      <td>3.60</td>\n",
       "      <td>2000</td>\n",
       "      <td>32</td>\n",
       "      <td>...</td>\n",
       "      <td>27300</td>\n",
       "      <td>0.6215</td>\n",
       "      <td>12</td>\n",
       "      <td>14</td>\n",
       "      <td>9.5</td>\n",
       "      <td>1</td>\n",
       "      <td>7</td>\n",
       "      <td>20.100058</td>\n",
       "      <td>1.524272</td>\n",
       "      <td>49</td>\n",
       "    </tr>\n",
       "  </tbody>\n",
       "</table>\n",
       "<p>5 rows × 22 columns</p>\n",
       "</div>"
      ],
      "text/plain": [
       "   inlf  hours  kidslt6  kidsge6  age  educ    wage  repwage  hushrs  husage  \\\n",
       "0     1   1610        1        0   32    12  3.3540     2.65    2708      34   \n",
       "1     1   1656        0        2   30    12  1.3889     2.65    2310      30   \n",
       "2     1   1980        1        3   35    12  4.5455     4.04    3072      40   \n",
       "3     1    456        0        3   34    12  1.0965     3.25    1920      53   \n",
       "4     1   1568        1        2   31    14  4.5918     3.60    2000      32   \n",
       "\n",
       "   ...  faminc     mtr  motheduc  fatheduc  unem  city  exper   nwifeinc  \\\n",
       "0  ...   16310  0.7215        12         7   5.0     0     14  10.910060   \n",
       "1  ...   21800  0.6615         7         7  11.0     1      5  19.499981   \n",
       "2  ...   21040  0.6915        12         7   5.0     0     15  12.039910   \n",
       "3  ...    7300  0.7815         7         7   5.0     0      6   6.799996   \n",
       "4  ...   27300  0.6215        12        14   9.5     1      7  20.100058   \n",
       "\n",
       "      lwage  expersq  \n",
       "0  1.210154      196  \n",
       "1  0.328512       25  \n",
       "2  1.514138      225  \n",
       "3  0.092123       36  \n",
       "4  1.524272       49  \n",
       "\n",
       "[5 rows x 22 columns]"
      ]
     },
     "execution_count": 372,
     "metadata": {},
     "output_type": "execute_result"
    }
   ],
   "source": [
    "df.head()"
   ]
  },
  {
   "cell_type": "code",
   "execution_count": 374,
   "id": "22f85b7c-efc6-4351-9c53-d36a9e557506",
   "metadata": {},
   "outputs": [],
   "source": [
    "df = df.dropna()"
   ]
  },
  {
   "cell_type": "markdown",
   "id": "10731990-b484-4985-93ac-7f31d64856bb",
   "metadata": {},
   "source": [
    "Question:1"
   ]
  },
  {
   "cell_type": "code",
   "execution_count": 377,
   "id": "1dd8fbcb-2616-4755-8e07-4e699304dd37",
   "metadata": {},
   "outputs": [],
   "source": [
    "df['log_wage'] = np.log(df['wage'])\n",
    "X1 = df[['educ', 'exper', 'expersq', 'kidslt6', 'kidsge6']]\n",
    "X1 = sm.add_constant(X1)\n",
    "y1 = df['log_wage']"
   ]
  },
  {
   "cell_type": "code",
   "execution_count": 379,
   "id": "38b156bb-f6bc-41fb-b243-8ea4e80daa8b",
   "metadata": {},
   "outputs": [
    {
     "name": "stdout",
     "output_type": "stream",
     "text": [
      "Column names: Index(['inlf', 'hours', 'kidslt6', 'kidsge6', 'age', 'educ', 'wage', 'repwage',\n",
      "       'hushrs', 'husage', 'huseduc', 'huswage', 'faminc', 'mtr', 'motheduc',\n",
      "       'fatheduc', 'unem', 'city', 'exper', 'nwifeinc', 'lwage', 'expersq',\n",
      "       'log_wage'],\n",
      "      dtype='object')\n"
     ]
    }
   ],
   "source": [
    "print('Column names:', df.columns)"
   ]
  },
  {
   "cell_type": "code",
   "execution_count": 381,
   "id": "4aa2a80e-f71b-4a5f-8985-46a47b65431c",
   "metadata": {},
   "outputs": [
    {
     "name": "stdout",
     "output_type": "stream",
     "text": [
      "Coefficients (Stage I Regression):\n",
      "0   -0.485650\n",
      "1    0.107962\n",
      "2    0.040034\n",
      "3   -0.000803\n",
      "4   -0.053418\n",
      "5   -0.012470\n",
      "dtype: float64\n"
     ]
    }
   ],
   "source": [
    "# calculating coefficients\n",
    "beta_hat1 = np.linalg.inv(X1.T @ X1) @ X1.T @ y1\n",
    "print('Coefficients (Stage I Regression):')\n",
    "print(beta_hat1)"
   ]
  },
  {
   "cell_type": "markdown",
   "id": "821db106-0a1c-4ad4-9fa4-85ebad75e084",
   "metadata": {},
   "source": [
    "Question:2"
   ]
  },
  {
   "cell_type": "code",
   "execution_count": 384,
   "id": "47ff4805-d39a-42bc-b287-95da12e89a6d",
   "metadata": {},
   "outputs": [
    {
     "name": "stdout",
     "output_type": "stream",
     "text": [
      "Standard Errors (Stage I Regression):\n",
      "[0.21364314 0.01437862 0.01335577 0.00039405 0.08467129 0.02679583]\n"
     ]
    }
   ],
   "source": [
    "residuals1 = y1.values - X1.values @ beta_hat1\n",
    "sigma_squared1 = (residuals1.T @ residuals1) / (len(y1) - len(beta_hat1))\n",
    "var_beta1 = sigma_squared1 * np.linalg.inv(X1.T @ X1)\n",
    "std_errors1 = np.sqrt(np.diag(var_beta1))\n",
    "print('Standard Errors (Stage I Regression):')\n",
    "print(std_errors1)"
   ]
  },
  {
   "cell_type": "markdown",
   "id": "7b1227c9-a1a9-4e8d-8e54-ad7a693404fe",
   "metadata": {},
   "source": [
    "Question:3"
   ]
  },
  {
   "cell_type": "code",
   "execution_count": 387,
   "id": "0da9a264-8928-409e-a69b-8dd4d8c8199c",
   "metadata": {},
   "outputs": [
    {
     "name": "stdout",
     "output_type": "stream",
     "text": [
      "Coefficients (Instrumental Variables Regression):\n",
      "[ 9.32486193e+00  4.29398398e-02 -1.06809389e-03  6.52589952e-01\n",
      " -1.52581236e-01  1.60245239e-01  1.79623914e-01]\n"
     ]
    }
   ],
   "source": [
    "X2 = df[['exper', 'expersq', 'kidslt6', 'kidsge6', 'motheduc', 'fatheduc']]\n",
    "X2 = sm.add_constant(X2)\n",
    "y2 = df['educ']\n",
    "\n",
    "# Manually calculate coefficients\n",
    "alpha_hat = np.linalg.inv(X2.T @ X2) @ (X2.T @ y2)\n",
    "print('Coefficients (Instrumental Variables Regression):')\n",
    "print(alpha_hat)"
   ]
  },
  {
   "cell_type": "markdown",
   "id": "f4d5bda1-07cd-4c10-bd6c-693ea3fb6190",
   "metadata": {},
   "source": [
    "Question:4"
   ]
  },
  {
   "cell_type": "code",
   "execution_count": 390,
   "id": "a906a3e3-78c1-4e3e-bbb2-f3ed69ff0f18",
   "metadata": {},
   "outputs": [
    {
     "name": "stdout",
     "output_type": "stream",
     "text": [
      "Standard Errors (Instrumental Variables Regression):\n",
      "[0.46736174 0.04037097 0.00119265 0.25429651 0.08123817 0.03566071\n",
      " 0.03371729]\n"
     ]
    }
   ],
   "source": [
    "residuals2 = y2.values - X2.values @ alpha_hat\n",
    "sigma_squared2 = (residuals2.T @ residuals2) / (len(y2) - len(alpha_hat))\n",
    "var_alpha = sigma_squared2 * np.linalg.inv(X2.T @ X2)\n",
    "std_errors2 = np.sqrt(np.diag(var_alpha))\n",
    "print('Standard Errors (Instrumental Variables Regression):')\n",
    "print(std_errors2)"
   ]
  },
  {
   "cell_type": "markdown",
   "id": "b760849c-e764-4e64-8705-852a04623f49",
   "metadata": {},
   "source": [
    "Question:5"
   ]
  },
  {
   "cell_type": "code",
   "execution_count": 393,
   "id": "a2c3daf0-c641-4ac8-b4b0-e1558ad65c41",
   "metadata": {},
   "outputs": [
    {
     "name": "stdout",
     "output_type": "stream",
     "text": [
      "Joint Hypothesis Test (H0: α5 = 0, α6 = 0):\n",
      "F-statistic: 53.520792596708475\n",
      "p-value: 1.1102230246251565e-16\n"
     ]
    }
   ],
   "source": [
    "from scipy.stats import f\n",
    "R = np.array([[0, 0, 0, 0, 0, 1, 0], [0, 0, 0, 0, 0, 0, 1]])\n",
    "r = np.zeros(2)\n",
    "F_stat = ((R @ alpha_hat - r).T @ np.linalg.inv(R @ var_alpha @ R.T) @ (R @ alpha_hat - r)) / len(r)\n",
    "df1, df2 = len(r), len(y2) - len(alpha_hat)\n",
    "p_value = 1 - f.cdf(F_stat, df1, df2)\n",
    "print('Joint Hypothesis Test (H0: α5 = 0, α6 = 0):')\n",
    "print('F-statistic:', F_stat)\n",
    "print('p-value:', p_value)\n",
    "\n"
   ]
  },
  {
   "cell_type": "markdown",
   "id": "74808a21-367c-47fb-99d8-3ef74e0c2149",
   "metadata": {},
   "source": [
    "Question:6"
   ]
  },
  {
   "cell_type": "code",
   "execution_count": 396,
   "id": "ba5aaeb5-5141-4d2e-bd89-2bbc3594d151",
   "metadata": {},
   "outputs": [
    {
     "name": "stdout",
     "output_type": "stream",
     "text": [
      "Coefficients (Stage II Regression):\n",
      "[ 0.12246335  0.05971665  0.042541   -0.00089684 -0.01549278 -0.02234876]\n"
     ]
    }
   ],
   "source": [
    "df['educ_fitted'] = X2 @ alpha_hat\n",
    "\n",
    "X3 = df[['educ_fitted', 'exper', 'expersq', 'kidslt6', 'kidsge6']]\n",
    "X3 = sm.add_constant(X3)\n",
    "y3 = df['log_wage']\n",
    "\n",
    "beta_hat2 = np.linalg.inv(X3.T @ X3) @ (X3.T @ y3)\n",
    "print('Coefficients (Stage II Regression):')\n",
    "print(beta_hat2)"
   ]
  },
  {
   "cell_type": "markdown",
   "id": "194c106d-7042-456e-9555-0fd695bba289",
   "metadata": {},
   "source": [
    "Question 7"
   ]
  },
  {
   "cell_type": "code",
   "execution_count": 399,
   "id": "3766350c-de1d-47b4-924b-8ffbac58a31c",
   "metadata": {},
   "outputs": [
    {
     "name": "stdout",
     "output_type": "stream",
     "text": [
      "Standard Errors (Stage II Regression):\n",
      "[4.43551801e-01 3.38775130e-02 1.42548182e-02 4.22140409e-04\n",
      " 9.29141353e-02 2.90922601e-02]\n"
     ]
    }
   ],
   "source": [
    "residuals3 = y3.values - X3.values @ beta_hat2\n",
    "sigma_squared3 = (residuals3.T @ residuals3) / (len(y3) - len(beta_hat2))\n",
    "var_beta2 = sigma_squared3 * np.linalg.inv(X3.T @ X3)\n",
    "std_errors3 = np.sqrt(np.diag(var_beta2))\n",
    "print('Standard Errors (Stage II Regression):')\n",
    "print(std_errors3)\n"
   ]
  },
  {
   "cell_type": "markdown",
   "id": "47f4097a-7086-448f-9e34-218f2bc89ae7",
   "metadata": {},
   "source": [
    "Question:8"
   ]
  },
  {
   "cell_type": "code",
   "execution_count": 402,
   "id": "8f44796a-eaee-43c2-8ff7-5fd6b44faf93",
   "metadata": {},
   "outputs": [
    {
     "name": "stdout",
     "output_type": "stream",
     "text": [
      "Exogeneity Test Statistic (H): 1.572812913582322\n",
      "Fail to reject H0: Education is exogenous.\n"
     ]
    }
   ],
   "source": [
    "# Initilly i had done var_beta1[1, 1] - var_beta2[1, 1] i was getting 'Exogeneity test not computed due to negative variance difference.' Then i reversed \n",
    "# this and make var_beta2[1, 1] - var_beta1[1, 1]\n",
    "var_diff = var_beta2[1, 1] - var_beta1[1, 1]\n",
    "if var_diff > 0:\n",
    "    H_stat = (beta_hat1[1] - beta_hat2[1]) / np.sqrt(var_diff)\n",
    "    print('Exogeneity Test Statistic (H):', H_stat)\n",
    "\n",
    "    if np.abs(H_stat) > 1.96:\n",
    "        print('Reject H0: Education is exogenous.')\n",
    "    else:\n",
    "        print('Fail to reject H0: Education is exogenous.')\n"
   ]
  },
  {
   "cell_type": "code",
   "execution_count": null,
   "id": "f2925d97-3c96-4bc1-a300-892b106a7e14",
   "metadata": {},
   "outputs": [],
   "source": []
  },
  {
   "cell_type": "code",
   "execution_count": null,
   "id": "87fae122-8556-4b0f-ac46-31b0781c78ba",
   "metadata": {},
   "outputs": [],
   "source": []
  },
  {
   "cell_type": "code",
   "execution_count": null,
   "id": "7d6f8bed-9606-4c64-94c2-1419ef6d4f64",
   "metadata": {},
   "outputs": [],
   "source": []
  },
  {
   "cell_type": "code",
   "execution_count": null,
   "id": "87b5780d-7950-4104-b1ad-795e8fc3453e",
   "metadata": {},
   "outputs": [],
   "source": []
  }
 ],
 "metadata": {
  "kernelspec": {
   "display_name": "Python 3 (ipykernel)",
   "language": "python",
   "name": "python3"
  },
  "language_info": {
   "codemirror_mode": {
    "name": "ipython",
    "version": 3
   },
   "file_extension": ".py",
   "mimetype": "text/x-python",
   "name": "python",
   "nbconvert_exporter": "python",
   "pygments_lexer": "ipython3",
   "version": "3.12.4"
  }
 },
 "nbformat": 4,
 "nbformat_minor": 5
}
