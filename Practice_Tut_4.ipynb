{
 "cells": [
  {
   "cell_type": "code",
   "execution_count": 2,
   "id": "794a0223-6a68-4adc-9520-12459555f929",
   "metadata": {},
   "outputs": [],
   "source": [
    "import pandas as pd\n",
    "import numpy as np"
   ]
  },
  {
   "cell_type": "code",
   "execution_count": 4,
   "id": "59451948-4998-4119-a754-c74b36e667ba",
   "metadata": {},
   "outputs": [
    {
     "data": {
      "text/html": [
       "<div>\n",
       "<style scoped>\n",
       "    .dataframe tbody tr th:only-of-type {\n",
       "        vertical-align: middle;\n",
       "    }\n",
       "\n",
       "    .dataframe tbody tr th {\n",
       "        vertical-align: top;\n",
       "    }\n",
       "\n",
       "    .dataframe thead th {\n",
       "        text-align: right;\n",
       "    }\n",
       "</style>\n",
       "<table border=\"1\" class=\"dataframe\">\n",
       "  <thead>\n",
       "    <tr style=\"text-align: right;\">\n",
       "      <th></th>\n",
       "      <th>Area</th>\n",
       "      <th>Output Value Added (thousands of $)</th>\n",
       "      <th>Labour Input Worker Hours (thousands)</th>\n",
       "      <th>Capital Input (thousands)</th>\n",
       "    </tr>\n",
       "  </thead>\n",
       "  <tbody>\n",
       "    <tr>\n",
       "      <th>0</th>\n",
       "      <td>Alabama</td>\n",
       "      <td>38372840</td>\n",
       "      <td>424471</td>\n",
       "      <td>2689076</td>\n",
       "    </tr>\n",
       "    <tr>\n",
       "      <th>1</th>\n",
       "      <td>Alaska</td>\n",
       "      <td>1805427</td>\n",
       "      <td>19895</td>\n",
       "      <td>57997</td>\n",
       "    </tr>\n",
       "    <tr>\n",
       "      <th>2</th>\n",
       "      <td>Arizona</td>\n",
       "      <td>23736129</td>\n",
       "      <td>206893</td>\n",
       "      <td>2308272</td>\n",
       "    </tr>\n",
       "    <tr>\n",
       "      <th>3</th>\n",
       "      <td>Arkansas</td>\n",
       "      <td>26981983</td>\n",
       "      <td>304055</td>\n",
       "      <td>1376235</td>\n",
       "    </tr>\n",
       "    <tr>\n",
       "      <th>4</th>\n",
       "      <td>California</td>\n",
       "      <td>217546032</td>\n",
       "      <td>1809756</td>\n",
       "      <td>13554116</td>\n",
       "    </tr>\n",
       "  </tbody>\n",
       "</table>\n",
       "</div>"
      ],
      "text/plain": [
       "         Area  Output Value Added (thousands of $)  \\\n",
       "0     Alabama                             38372840   \n",
       "1      Alaska                              1805427   \n",
       "2     Arizona                             23736129   \n",
       "3    Arkansas                             26981983   \n",
       "4  California                            217546032   \n",
       "\n",
       "   Labour Input Worker Hours (thousands)  Capital Input (thousands)  \n",
       "0                                 424471                    2689076  \n",
       "1                                  19895                      57997  \n",
       "2                                 206893                    2308272  \n",
       "3                                 304055                    1376235  \n",
       "4                                1809756                   13554116  "
      ]
     },
     "execution_count": 4,
     "metadata": {},
     "output_type": "execute_result"
    }
   ],
   "source": [
    "df=pd.read_excel(\"Basic_Econometrics_practice_data.xlsx\", sheet_name=\"US_CobbDauglas\")\n",
    "df.head()\n"
   ]
  },
  {
   "cell_type": "code",
   "execution_count": 6,
   "id": "f278f148-bbf0-488b-8fba-7d7f133d5057",
   "metadata": {},
   "outputs": [],
   "source": [
    "df = df[df.columns[1:4]]"
   ]
  },
  {
   "cell_type": "code",
   "execution_count": 8,
   "id": "9ddd714c-7a66-461c-9699-861947abb6d3",
   "metadata": {},
   "outputs": [
    {
     "data": {
      "text/html": [
       "<div>\n",
       "<style scoped>\n",
       "    .dataframe tbody tr th:only-of-type {\n",
       "        vertical-align: middle;\n",
       "    }\n",
       "\n",
       "    .dataframe tbody tr th {\n",
       "        vertical-align: top;\n",
       "    }\n",
       "\n",
       "    .dataframe thead th {\n",
       "        text-align: right;\n",
       "    }\n",
       "</style>\n",
       "<table border=\"1\" class=\"dataframe\">\n",
       "  <thead>\n",
       "    <tr style=\"text-align: right;\">\n",
       "      <th></th>\n",
       "      <th>Output Value Added (thousands of $)</th>\n",
       "      <th>Labour Input Worker Hours (thousands)</th>\n",
       "      <th>Capital Input (thousands)</th>\n",
       "    </tr>\n",
       "  </thead>\n",
       "  <tbody>\n",
       "    <tr>\n",
       "      <th>0</th>\n",
       "      <td>38372840</td>\n",
       "      <td>424471</td>\n",
       "      <td>2689076</td>\n",
       "    </tr>\n",
       "    <tr>\n",
       "      <th>1</th>\n",
       "      <td>1805427</td>\n",
       "      <td>19895</td>\n",
       "      <td>57997</td>\n",
       "    </tr>\n",
       "    <tr>\n",
       "      <th>2</th>\n",
       "      <td>23736129</td>\n",
       "      <td>206893</td>\n",
       "      <td>2308272</td>\n",
       "    </tr>\n",
       "    <tr>\n",
       "      <th>3</th>\n",
       "      <td>26981983</td>\n",
       "      <td>304055</td>\n",
       "      <td>1376235</td>\n",
       "    </tr>\n",
       "    <tr>\n",
       "      <th>4</th>\n",
       "      <td>217546032</td>\n",
       "      <td>1809756</td>\n",
       "      <td>13554116</td>\n",
       "    </tr>\n",
       "  </tbody>\n",
       "</table>\n",
       "</div>"
      ],
      "text/plain": [
       "   Output Value Added (thousands of $)  Labour Input Worker Hours (thousands)  \\\n",
       "0                             38372840                                 424471   \n",
       "1                              1805427                                  19895   \n",
       "2                             23736129                                 206893   \n",
       "3                             26981983                                 304055   \n",
       "4                            217546032                                1809756   \n",
       "\n",
       "   Capital Input (thousands)  \n",
       "0                    2689076  \n",
       "1                      57997  \n",
       "2                    2308272  \n",
       "3                    1376235  \n",
       "4                   13554116  "
      ]
     },
     "execution_count": 8,
     "metadata": {},
     "output_type": "execute_result"
    }
   ],
   "source": [
    "df.head()"
   ]
  },
  {
   "cell_type": "code",
   "execution_count": 10,
   "id": "f83118a1-7c1f-4c8a-b620-b6aee60f4c24",
   "metadata": {},
   "outputs": [],
   "source": [
    " df = np.log(df)"
   ]
  },
  {
   "cell_type": "code",
   "execution_count": 12,
   "id": "765b072d-02bf-4bab-804f-3249e7f8f150",
   "metadata": {},
   "outputs": [
    {
     "data": {
      "text/html": [
       "<div>\n",
       "<style scoped>\n",
       "    .dataframe tbody tr th:only-of-type {\n",
       "        vertical-align: middle;\n",
       "    }\n",
       "\n",
       "    .dataframe tbody tr th {\n",
       "        vertical-align: top;\n",
       "    }\n",
       "\n",
       "    .dataframe thead th {\n",
       "        text-align: right;\n",
       "    }\n",
       "</style>\n",
       "<table border=\"1\" class=\"dataframe\">\n",
       "  <thead>\n",
       "    <tr style=\"text-align: right;\">\n",
       "      <th></th>\n",
       "      <th>ln_Y</th>\n",
       "      <th>ln_L</th>\n",
       "      <th>ln_K</th>\n",
       "    </tr>\n",
       "  </thead>\n",
       "  <tbody>\n",
       "    <tr>\n",
       "      <th>0</th>\n",
       "      <td>17.462860</td>\n",
       "      <td>12.958599</td>\n",
       "      <td>14.804708</td>\n",
       "    </tr>\n",
       "    <tr>\n",
       "      <th>1</th>\n",
       "      <td>14.406308</td>\n",
       "      <td>9.898224</td>\n",
       "      <td>10.968147</td>\n",
       "    </tr>\n",
       "    <tr>\n",
       "      <th>2</th>\n",
       "      <td>16.982509</td>\n",
       "      <td>12.239957</td>\n",
       "      <td>14.652010</td>\n",
       "    </tr>\n",
       "    <tr>\n",
       "      <th>3</th>\n",
       "      <td>17.110680</td>\n",
       "      <td>12.624964</td>\n",
       "      <td>14.134862</td>\n",
       "    </tr>\n",
       "    <tr>\n",
       "      <th>4</th>\n",
       "      <td>19.197921</td>\n",
       "      <td>14.408703</td>\n",
       "      <td>16.422201</td>\n",
       "    </tr>\n",
       "  </tbody>\n",
       "</table>\n",
       "</div>"
      ],
      "text/plain": [
       "        ln_Y       ln_L       ln_K\n",
       "0  17.462860  12.958599  14.804708\n",
       "1  14.406308   9.898224  10.968147\n",
       "2  16.982509  12.239957  14.652010\n",
       "3  17.110680  12.624964  14.134862\n",
       "4  19.197921  14.408703  16.422201"
      ]
     },
     "execution_count": 12,
     "metadata": {},
     "output_type": "execute_result"
    }
   ],
   "source": [
    " df.columns = [\"ln_Y\", \"ln_L\", \"ln_K\"]\n",
    " df.head()"
   ]
  },
  {
   "cell_type": "code",
   "execution_count": 12,
   "id": "50976d0f-dbc6-4e39-8ff0-7f0f198a1ef3",
   "metadata": {},
   "outputs": [
    {
     "name": "stdout",
     "output_type": "stream",
     "text": [
      "Requirement already satisfied: statsmodels in c:\\users\\praveen\\anaconda3\\lib\\site-packages (0.14.2)\n",
      "Requirement already satisfied: numpy>=1.22.3 in c:\\users\\praveen\\anaconda3\\lib\\site-packages (from statsmodels) (1.26.4)\n",
      "Requirement already satisfied: scipy!=1.9.2,>=1.8 in c:\\users\\praveen\\anaconda3\\lib\\site-packages (from statsmodels) (1.13.1)\n",
      "Requirement already satisfied: pandas!=2.1.0,>=1.4 in c:\\users\\praveen\\anaconda3\\lib\\site-packages (from statsmodels) (2.2.2)\n",
      "Requirement already satisfied: patsy>=0.5.6 in c:\\users\\praveen\\anaconda3\\lib\\site-packages (from statsmodels) (0.5.6)\n",
      "Requirement already satisfied: packaging>=21.3 in c:\\users\\praveen\\anaconda3\\lib\\site-packages (from statsmodels) (23.2)\n",
      "Requirement already satisfied: python-dateutil>=2.8.2 in c:\\users\\praveen\\anaconda3\\lib\\site-packages (from pandas!=2.1.0,>=1.4->statsmodels) (2.9.0.post0)\n",
      "Requirement already satisfied: pytz>=2020.1 in c:\\users\\praveen\\anaconda3\\lib\\site-packages (from pandas!=2.1.0,>=1.4->statsmodels) (2024.1)\n",
      "Requirement already satisfied: tzdata>=2022.7 in c:\\users\\praveen\\anaconda3\\lib\\site-packages (from pandas!=2.1.0,>=1.4->statsmodels) (2023.3)\n",
      "Requirement already satisfied: six in c:\\users\\praveen\\anaconda3\\lib\\site-packages (from patsy>=0.5.6->statsmodels) (1.16.0)\n"
     ]
    },
    {
     "name": "stderr",
     "output_type": "stream",
     "text": [
      "\n",
      "[notice] A new release of pip is available: 24.3.1 -> 25.0\n",
      "[notice] To update, run: python.exe -m pip install --upgrade pip\n"
     ]
    }
   ],
   "source": [
    "!pip install statsmodels\n"
   ]
  },
  {
   "cell_type": "code",
   "execution_count": 14,
   "id": "926a8577-4406-4e97-a527-5dff9751cdbe",
   "metadata": {},
   "outputs": [],
   "source": [
    "import statsmodels.api as sm\n"
   ]
  },
  {
   "cell_type": "code",
   "execution_count": 16,
   "id": "057795a3-b219-4887-a277-41e64fff4554",
   "metadata": {},
   "outputs": [],
   "source": [
    " X=df[[\"ln_L\", \"ln_K\"]]\n",
    " Y=df[\"ln_Y\"]\n",
    " X=sm.add_constant(X)"
   ]
  },
  {
   "cell_type": "code",
   "execution_count": 20,
   "id": "20c71dfb-0355-4040-90e4-942a1a915016",
   "metadata": {},
   "outputs": [
    {
     "data": {
      "text/html": [
       "<div>\n",
       "<style scoped>\n",
       "    .dataframe tbody tr th:only-of-type {\n",
       "        vertical-align: middle;\n",
       "    }\n",
       "\n",
       "    .dataframe tbody tr th {\n",
       "        vertical-align: top;\n",
       "    }\n",
       "\n",
       "    .dataframe thead th {\n",
       "        text-align: right;\n",
       "    }\n",
       "</style>\n",
       "<table border=\"1\" class=\"dataframe\">\n",
       "  <thead>\n",
       "    <tr style=\"text-align: right;\">\n",
       "      <th></th>\n",
       "      <th>const</th>\n",
       "      <th>ln_L</th>\n",
       "      <th>ln_K</th>\n",
       "    </tr>\n",
       "  </thead>\n",
       "  <tbody>\n",
       "    <tr>\n",
       "      <th>0</th>\n",
       "      <td>1.0</td>\n",
       "      <td>12.958599</td>\n",
       "      <td>14.804708</td>\n",
       "    </tr>\n",
       "    <tr>\n",
       "      <th>1</th>\n",
       "      <td>1.0</td>\n",
       "      <td>9.898224</td>\n",
       "      <td>10.968147</td>\n",
       "    </tr>\n",
       "    <tr>\n",
       "      <th>2</th>\n",
       "      <td>1.0</td>\n",
       "      <td>12.239957</td>\n",
       "      <td>14.652010</td>\n",
       "    </tr>\n",
       "    <tr>\n",
       "      <th>3</th>\n",
       "      <td>1.0</td>\n",
       "      <td>12.624964</td>\n",
       "      <td>14.134862</td>\n",
       "    </tr>\n",
       "    <tr>\n",
       "      <th>4</th>\n",
       "      <td>1.0</td>\n",
       "      <td>14.408703</td>\n",
       "      <td>16.422201</td>\n",
       "    </tr>\n",
       "  </tbody>\n",
       "</table>\n",
       "</div>"
      ],
      "text/plain": [
       "   const       ln_L       ln_K\n",
       "0    1.0  12.958599  14.804708\n",
       "1    1.0   9.898224  10.968147\n",
       "2    1.0  12.239957  14.652010\n",
       "3    1.0  12.624964  14.134862\n",
       "4    1.0  14.408703  16.422201"
      ]
     },
     "execution_count": 20,
     "metadata": {},
     "output_type": "execute_result"
    }
   ],
   "source": [
    "X.head()"
   ]
  },
  {
   "cell_type": "code",
   "execution_count": 22,
   "id": "6cafa7eb-20da-4b33-bdd8-e273a06c6063",
   "metadata": {},
   "outputs": [
    {
     "name": "stdout",
     "output_type": "stream",
     "text": [
      "                            OLS Regression Results                            \n",
      "==============================================================================\n",
      "Dep. Variable:                   ln_Y   R-squared:                       0.964\n",
      "Model:                            OLS   Adj. R-squared:                  0.963\n",
      "Method:                 Least Squares   F-statistic:                     645.9\n",
      "Date:                Fri, 14 Feb 2025   Prob (F-statistic):           2.00e-35\n",
      "Time:                        00:00:40   Log-Likelihood:                -3.4267\n",
      "No. Observations:                  51   AIC:                             12.85\n",
      "Df Residuals:                      48   BIC:                             18.65\n",
      "Df Model:                           2                                         \n",
      "Covariance Type:            nonrobust                                         \n",
      "==============================================================================\n",
      "                 coef    std err          t      P>|t|      [0.025      0.975]\n",
      "------------------------------------------------------------------------------\n",
      "const          3.8876      0.396      9.812      0.000       3.091       4.684\n",
      "ln_L           0.4683      0.099      4.734      0.000       0.269       0.667\n",
      "ln_K           0.5213      0.097      5.380      0.000       0.326       0.716\n",
      "==============================================================================\n",
      "Omnibus:                       45.645   Durbin-Watson:                   1.946\n",
      "Prob(Omnibus):                  0.000   Jarque-Bera (JB):              196.024\n",
      "Skew:                           2.336   Prob(JB):                     2.72e-43\n",
      "Kurtosis:                      11.392   Cond. No.                         201.\n",
      "==============================================================================\n",
      "\n",
      "Notes:\n",
      "[1] Standard Errors assume that the covariance matrix of the errors is correctly specified.\n"
     ]
    }
   ],
   "source": [
    " model = sm.OLS(Y, X).fit()\n",
    " print_model = model.summary()\n",
    " print(print_model)"
   ]
  },
  {
   "cell_type": "markdown",
   "id": "b672204e-95db-4ebe-92b6-dd071911d7d3",
   "metadata": {},
   "source": [
    "Qustion:4"
   ]
  },
  {
   "cell_type": "code",
   "execution_count": 25,
   "id": "9e14f306-2e6c-4876-9673-0cf9a4947444",
   "metadata": {},
   "outputs": [],
   "source": [
    "beta_hat = np.linalg.inv(X.T @ X) @ X.T @ Y"
   ]
  },
  {
   "cell_type": "code",
   "execution_count": null,
   "id": "dd905e3f-0c9e-4d7c-a9cf-a0e13d9ffee8",
   "metadata": {},
   "outputs": [],
   "source": [
    "beta"
   ]
  },
  {
   "cell_type": "code",
   "execution_count": 27,
   "id": "0934de8a-b498-4839-b971-2e8b2afcc5d0",
   "metadata": {},
   "outputs": [
    {
     "name": "stdout",
     "output_type": "stream",
     "text": [
      "0    3.887600\n",
      "1    0.468332\n",
      "2    0.521279\n",
      "dtype: float64\n"
     ]
    }
   ],
   "source": [
    "print(beta_hat)"
   ]
  },
  {
   "cell_type": "markdown",
   "id": "5f5b7fde-30f9-45a3-b7cd-a6def1c7801b",
   "metadata": {},
   "source": [
    "Question:5"
   ]
  },
  {
   "cell_type": "code",
   "execution_count": 30,
   "id": "189b73eb-3713-4ee5-a583-bac8328200ba",
   "metadata": {},
   "outputs": [],
   "source": [
    "X_Transpose = X.T"
   ]
  },
  {
   "cell_type": "code",
   "execution_count": 32,
   "id": "c9de57f4-9963-4176-a03f-89646ac3cb80",
   "metadata": {},
   "outputs": [
    {
     "data": {
      "text/plain": [
       "const    3.887600\n",
       "ln_L     0.468332\n",
       "ln_K     0.521279\n",
       "dtype: float64"
      ]
     },
     "execution_count": 32,
     "metadata": {},
     "output_type": "execute_result"
    }
   ],
   "source": [
    "model.params"
   ]
  },
  {
   "cell_type": "code",
   "execution_count": 33,
   "id": "8009e1f0-7fbd-4150-8ca5-cdeeae77484a",
   "metadata": {},
   "outputs": [],
   "source": [
    "X_multiple = X_Transpose@X"
   ]
  },
  {
   "cell_type": "code",
   "execution_count": 34,
   "id": "f8268623-efc9-4a0d-84d2-5185b15ce6e6",
   "metadata": {},
   "outputs": [],
   "source": [
    "Z_multiple = X_multiple/51"
   ]
  },
  {
   "cell_type": "code",
   "execution_count": 35,
   "id": "bf4c0314-7565-4be1-a1e2-2fba360768f7",
   "metadata": {},
   "outputs": [],
   "source": [
    "Z_inverse = np.linalg.inv(Z_multiple)"
   ]
  },
  {
   "cell_type": "code",
   "execution_count": 40,
   "id": "2107acc6-90fd-42fd-9484-fbdfb9d76f1f",
   "metadata": {},
   "outputs": [],
   "source": [
    "e = model.resid"
   ]
  },
  {
   "cell_type": "code",
   "execution_count": 42,
   "id": "8583dd70-1b72-4f8b-af7e-137ecfee8d8a",
   "metadata": {},
   "outputs": [],
   "source": [
    "e_trans = e.T\n"
   ]
  },
  {
   "cell_type": "code",
   "execution_count": 44,
   "id": "aadad706-5906-4360-9293-db231a726ef0",
   "metadata": {},
   "outputs": [],
   "source": [
    "e_multiple = e_trans@e"
   ]
  },
  {
   "cell_type": "code",
   "execution_count": 46,
   "id": "3a4c0a7d-98d4-4a47-8893-f9e7f6e0a943",
   "metadata": {},
   "outputs": [],
   "source": [
    "n,k = X.shape"
   ]
  },
  {
   "cell_type": "code",
   "execution_count": 48,
   "id": "ee48955e-4a2f-435e-ac70-b4833206a0f6",
   "metadata": {},
   "outputs": [
    {
     "data": {
      "text/plain": [
       "(51, 3)"
      ]
     },
     "execution_count": 48,
     "metadata": {},
     "output_type": "execute_result"
    }
   ],
   "source": [
    "n,k\n"
   ]
  },
  {
   "cell_type": "code",
   "execution_count": 50,
   "id": "0954a9cc-5cb2-4c1c-bf43-f58340a94b66",
   "metadata": {},
   "outputs": [],
   "source": [
    "Sigma_square = e_multiple/48"
   ]
  },
  {
   "cell_type": "code",
   "execution_count": 52,
   "id": "b9066512-e889-4116-b61f-e27777faefbf",
   "metadata": {},
   "outputs": [
    {
     "data": {
      "text/plain": [
       "array([[112.52410792,   7.42802706, -14.34475787],\n",
       "       [  7.42802706,   7.01414757,  -6.59756502],\n",
       "       [-14.34475787,  -6.59756502,   6.72800621]])"
      ]
     },
     "execution_count": 52,
     "metadata": {},
     "output_type": "execute_result"
    }
   ],
   "source": [
    "Z_inverse"
   ]
  },
  {
   "cell_type": "code",
   "execution_count": 54,
   "id": "eed8b08a-63de-48ac-a8ad-543b2d23bb32",
   "metadata": {},
   "outputs": [],
   "source": [
    "V_cap =  Sigma_square*Z_inverse"
   ]
  },
  {
   "cell_type": "code",
   "execution_count": 56,
   "id": "c69f1120-b27f-4a05-aeec-186d6cca03c8",
   "metadata": {},
   "outputs": [
    {
     "data": {
      "text/plain": [
       "array([[ 8.00684076,  0.52855367, -1.0207252 ],\n",
       "       [ 0.52855367,  0.49910338, -0.46946075],\n",
       "       [-1.0207252 , -0.46946075,  0.47874251]])"
      ]
     },
     "execution_count": 56,
     "metadata": {},
     "output_type": "execute_result"
    }
   ],
   "source": [
    "V_cap\n"
   ]
  },
  {
   "cell_type": "markdown",
   "id": "a7815de2-3949-4f5e-9b01-ed22bc8d69dc",
   "metadata": {},
   "source": [
    "Question 6"
   ]
  },
  {
   "cell_type": "code",
   "execution_count": 59,
   "id": "afdd634e-18bd-4adc-8d41-52b430bbec15",
   "metadata": {},
   "outputs": [],
   "source": [
    "V_kk = np.diag(V_cap)\n",
    "\n"
   ]
  },
  {
   "cell_type": "code",
   "execution_count": 61,
   "id": "f76f5a31-3758-4150-8966-88220ad7c27f",
   "metadata": {},
   "outputs": [
    {
     "data": {
      "text/plain": [
       "array([8.00684076, 0.49910338, 0.47874251])"
      ]
     },
     "execution_count": 61,
     "metadata": {},
     "output_type": "execute_result"
    }
   ],
   "source": [
    "V_kk"
   ]
  },
  {
   "cell_type": "code",
   "execution_count": 63,
   "id": "de6fabe0-19da-4ebf-8dd9-83264692a097",
   "metadata": {},
   "outputs": [],
   "source": [
    "T_test = np.sqrt(51)*(beta_hat-0)/V_kk"
   ]
  },
  {
   "cell_type": "code",
   "execution_count": 65,
   "id": "5a3147bb-b22b-4d89-8420-8a24e4f4910a",
   "metadata": {},
   "outputs": [
    {
     "name": "stdout",
     "output_type": "stream",
     "text": [
      "0    3.467412\n",
      "1    6.701139\n",
      "2    7.775949\n",
      "dtype: float64\n"
     ]
    }
   ],
   "source": [
    "print(T_test)"
   ]
  },
  {
   "cell_type": "markdown",
   "id": "0e094674-b79d-4b14-abc4-f83f586d9ac2",
   "metadata": {},
   "source": [
    "Question:7"
   ]
  },
  {
   "cell_type": "code",
   "execution_count": 68,
   "id": "30481215-19ca-4e2a-905d-5bae3884ae7c",
   "metadata": {},
   "outputs": [],
   "source": [
    "CI = [beta_hat - 1.96*np.sqrt(V_kk/51) , beta_hat + 1.96*np.sqrt(V_kk/51)]"
   ]
  },
  {
   "cell_type": "code",
   "execution_count": 70,
   "id": "b954becd-f9a4-461c-9977-9b6b3c7c4706",
   "metadata": {},
   "outputs": [
    {
     "data": {
      "text/plain": [
       "[0    3.110992\n",
       " 1    0.274437\n",
       " 2    0.331380\n",
       " dtype: float64,\n",
       " 0    4.664207\n",
       " 1    0.662227\n",
       " 2    0.711178\n",
       " dtype: float64]"
      ]
     },
     "execution_count": 70,
     "metadata": {},
     "output_type": "execute_result"
    }
   ],
   "source": [
    "CI"
   ]
  },
  {
   "cell_type": "markdown",
   "id": "766d224c-5c6e-4632-b018-0840bc5bc8e1",
   "metadata": {},
   "source": [
    "Chatgpt Solution\n"
   ]
  },
  {
   "cell_type": "code",
   "execution_count": 73,
   "id": "4af9b409-0024-4b8d-9513-fd268cac8f6f",
   "metadata": {},
   "outputs": [],
   "source": [
    "import numpy as np\n",
    "import pandas as pd\n",
    "import statsmodels.api as sm\n",
    "from scipy.stats import t, chi2"
   ]
  },
  {
   "cell_type": "code",
   "execution_count": 75,
   "id": "2a5c8e54-093c-4edb-8220-fa03c65c09e7",
   "metadata": {},
   "outputs": [
    {
     "data": {
      "text/html": [
       "<div>\n",
       "<style scoped>\n",
       "    .dataframe tbody tr th:only-of-type {\n",
       "        vertical-align: middle;\n",
       "    }\n",
       "\n",
       "    .dataframe tbody tr th {\n",
       "        vertical-align: top;\n",
       "    }\n",
       "\n",
       "    .dataframe thead th {\n",
       "        text-align: right;\n",
       "    }\n",
       "</style>\n",
       "<table border=\"1\" class=\"dataframe\">\n",
       "  <thead>\n",
       "    <tr style=\"text-align: right;\">\n",
       "      <th></th>\n",
       "      <th>ln_Y</th>\n",
       "      <th>ln_L</th>\n",
       "      <th>ln_K</th>\n",
       "    </tr>\n",
       "  </thead>\n",
       "  <tbody>\n",
       "    <tr>\n",
       "      <th>0</th>\n",
       "      <td>17.462860</td>\n",
       "      <td>12.958599</td>\n",
       "      <td>14.804708</td>\n",
       "    </tr>\n",
       "    <tr>\n",
       "      <th>1</th>\n",
       "      <td>14.406308</td>\n",
       "      <td>9.898224</td>\n",
       "      <td>10.968147</td>\n",
       "    </tr>\n",
       "    <tr>\n",
       "      <th>2</th>\n",
       "      <td>16.982509</td>\n",
       "      <td>12.239957</td>\n",
       "      <td>14.652010</td>\n",
       "    </tr>\n",
       "    <tr>\n",
       "      <th>3</th>\n",
       "      <td>17.110680</td>\n",
       "      <td>12.624964</td>\n",
       "      <td>14.134862</td>\n",
       "    </tr>\n",
       "    <tr>\n",
       "      <th>4</th>\n",
       "      <td>19.197921</td>\n",
       "      <td>14.408703</td>\n",
       "      <td>16.422201</td>\n",
       "    </tr>\n",
       "  </tbody>\n",
       "</table>\n",
       "</div>"
      ],
      "text/plain": [
       "        ln_Y       ln_L       ln_K\n",
       "0  17.462860  12.958599  14.804708\n",
       "1  14.406308   9.898224  10.968147\n",
       "2  16.982509  12.239957  14.652010\n",
       "3  17.110680  12.624964  14.134862\n",
       "4  19.197921  14.408703  16.422201"
      ]
     },
     "execution_count": 75,
     "metadata": {},
     "output_type": "execute_result"
    }
   ],
   "source": [
    "# 1. Load and preprocess data\n",
    "df = pd.read_excel('Basic_Econometrics_practice_data.xlsx', sheet_name='US_CobbDauglas')\n",
    "df = df[df.columns[1:4]]\n",
    "df = np.log(df)\n",
    "df.columns = ['ln_Y', 'ln_L', 'ln_K']\n",
    "df.head()"
   ]
  },
  {
   "cell_type": "code",
   "execution_count": 77,
   "id": "0d596448-94a3-4705-9e3f-b90b9a91b6e6",
   "metadata": {},
   "outputs": [],
   "source": [
    "# 2. Define X and Y\n",
    "X = df[['ln_L', 'ln_K']]\n",
    "Y = df['ln_Y']\n",
    "X = sm.add_constant(X)"
   ]
  },
  {
   "cell_type": "code",
   "execution_count": 79,
   "id": "942b4e4d-b9fe-466c-ad76-1d3739c3c955",
   "metadata": {},
   "outputs": [
    {
     "name": "stdout",
     "output_type": "stream",
     "text": [
      "                            OLS Regression Results                            \n",
      "==============================================================================\n",
      "Dep. Variable:                   ln_Y   R-squared:                       0.964\n",
      "Model:                            OLS   Adj. R-squared:                  0.963\n",
      "Method:                 Least Squares   F-statistic:                     645.9\n",
      "Date:                Fri, 14 Feb 2025   Prob (F-statistic):           2.00e-35\n",
      "Time:                        00:20:24   Log-Likelihood:                -3.4267\n",
      "No. Observations:                  51   AIC:                             12.85\n",
      "Df Residuals:                      48   BIC:                             18.65\n",
      "Df Model:                           2                                         \n",
      "Covariance Type:            nonrobust                                         \n",
      "==============================================================================\n",
      "                 coef    std err          t      P>|t|      [0.025      0.975]\n",
      "------------------------------------------------------------------------------\n",
      "const          3.8876      0.396      9.812      0.000       3.091       4.684\n",
      "ln_L           0.4683      0.099      4.734      0.000       0.269       0.667\n",
      "ln_K           0.5213      0.097      5.380      0.000       0.326       0.716\n",
      "==============================================================================\n",
      "Omnibus:                       45.645   Durbin-Watson:                   1.946\n",
      "Prob(Omnibus):                  0.000   Jarque-Bera (JB):              196.024\n",
      "Skew:                           2.336   Prob(JB):                     2.72e-43\n",
      "Kurtosis:                      11.392   Cond. No.                         201.\n",
      "==============================================================================\n",
      "\n",
      "Notes:\n",
      "[1] Standard Errors assume that the covariance matrix of the errors is correctly specified.\n"
     ]
    }
   ],
   "source": [
    "# 3. Run OLS regression\n",
    "model = sm.OLS(Y, X).fit()\n",
    "print(model.summary())"
   ]
  },
  {
   "cell_type": "code",
   "execution_count": 81,
   "id": "f40d067c-fb7a-487c-863e-88dd36f97007",
   "metadata": {},
   "outputs": [
    {
     "name": "stdout",
     "output_type": "stream",
     "text": [
      "Beta Hat Manual:\n",
      " [3.88759952 0.4683322  0.52127911]\n",
      "Model Params:\n",
      " const    3.887600\n",
      "ln_L     0.468332\n",
      "ln_K     0.521279\n",
      "dtype: float64\n"
     ]
    }
   ],
   "source": [
    "# 4. Compute β̂ = (X'X)^(-1) X'Y manually\n",
    "XTX_inv = np.linalg.inv(X.T @ X)\n",
    "XTY = X.T @ Y\n",
    "beta_hat_manual = XTX_inv @ XTY\n",
    "print(\"Beta Hat Manual:\\n\", beta_hat_manual)\n",
    "print(\"Model Params:\\n\", model.params)"
   ]
  },
  {
   "cell_type": "code",
   "execution_count": 83,
   "id": "c9aa037b-0f49-46c4-88fb-0402d057d2d5",
   "metadata": {},
   "outputs": [
    {
     "name": "stdout",
     "output_type": "stream",
     "text": [
      "Variance of Beta Hat:\n",
      " [[ 0.15699688  0.0103638  -0.02001422]\n",
      " [ 0.0103638   0.00978634 -0.00920511]\n",
      " [-0.02001422 -0.00920511  0.00938711]]\n"
     ]
    }
   ],
   "source": [
    "# 5. Compute variance estimator\n",
    "n, k = X.shape\n",
    "e = model.resid\n",
    "sigma_hat_squared = (e.T @ e) / (n - k)\n",
    "var_beta_hat = sigma_hat_squared * XTX_inv\n",
    "print(\"Variance of Beta Hat:\\n\", var_beta_hat)"
   ]
  },
  {
   "cell_type": "code",
   "execution_count": 85,
   "id": "a570248e-5fe5-46db-b32f-777fce15ee04",
   "metadata": {},
   "outputs": [
    {
     "name": "stdout",
     "output_type": "stream",
     "text": [
      "T-Statistics:\n",
      " const    9.811514\n",
      "ln_L     4.734170\n",
      "ln_K     5.380274\n",
      "dtype: float64\n",
      "P-Values:\n",
      " [4.705125178361413e-13, 1.980879661545032e-05, 2.183159306223814e-06]\n"
     ]
    }
   ],
   "source": [
    "# 6. Compute t-statistics\n",
    "t_stats = model.params / np.sqrt(np.diag(var_beta_hat))\n",
    "p_values = [2 * (1 - t.cdf(np.abs(t_val), df=n-k)) for t_val in t_stats]\n",
    "print(\"T-Statistics:\\n\", t_stats)\n",
    "print(\"P-Values:\\n\", p_values)"
   ]
  },
  {
   "cell_type": "code",
   "execution_count": 25,
   "id": "c5314f84-e97e-4f7a-9a93-0ad40e4bb72f",
   "metadata": {},
   "outputs": [
    {
     "name": "stdout",
     "output_type": "stream",
     "text": [
      "Confidence Intervals:\n",
      " [(3.7760433514350127, 3.999155696648264), (0.44048008406539885, 0.4961843251031903), (0.49400102067338125, 0.5485572069712673)]\n"
     ]
    },
    {
     "name": "stderr",
     "output_type": "stream",
     "text": [
      "C:\\Users\\praveen\\AppData\\Local\\Temp\\ipykernel_14212\\2116218448.py:6: FutureWarning: Series.__getitem__ treating keys as positions is deprecated. In a future version, integer keys will always be treated as labels (consistent with DataFrame behavior). To access a value by position, use `ser.iloc[pos]`\n",
      "  model.params[i] - z_alpha_2 * np.sqrt(var_beta_hat[i, i]) / np.sqrt(n),\n",
      "C:\\Users\\praveen\\AppData\\Local\\Temp\\ipykernel_14212\\2116218448.py:7: FutureWarning: Series.__getitem__ treating keys as positions is deprecated. In a future version, integer keys will always be treated as labels (consistent with DataFrame behavior). To access a value by position, use `ser.iloc[pos]`\n",
      "  model.params[i] + z_alpha_2 * np.sqrt(var_beta_hat[i, i]) / np.sqrt(n)\n"
     ]
    }
   ],
   "source": [
    "# 7. Compute confidence intervals\n",
    "alpha = 0.05\n",
    "z_alpha_2 = t.ppf(1 - alpha/2, df=n-k)\n",
    "conf_intervals = [\n",
    "    (\n",
    "        model.params[i] - z_alpha_2 * np.sqrt(var_beta_hat[i, i]) / np.sqrt(n),\n",
    "        model.params[i] + z_alpha_2 * np.sqrt(var_beta_hat[i, i]) / np.sqrt(n)\n",
    "    )\n",
    "    for i in range(k)\n",
    "]\n",
    "print(\"Confidence Intervals:\\n\", conf_intervals)"
   ]
  },
  {
   "cell_type": "code",
   "execution_count": 33,
   "id": "355cf0fa-0a08-4979-a554-b578ed004ca8",
   "metadata": {},
   "outputs": [
    {
     "name": "stdout",
     "output_type": "stream",
     "text": [
      "Wald Statistic (H0: β1 = 0, β2 = 0, β3 = 0): 1291.8621329525445\n",
      "p-value: 0.0\n"
     ]
    }
   ],
   "source": [
    "import numpy as np\n",
    "from scipy.stats import chi2\n",
    "\n",
    "# Assuming `model` is a fitted regression model and `var_beta_hat` is the variance-covariance matrix of coefficients\n",
    "k = len(model.params)  # Number of coefficients (including intercept)\n",
    "\n",
    "R1 = np.eye(k-1)  # Create a (k-1)x(k-1) identity matrix\n",
    "var_beta_hat_reduced = var_beta_hat[1:, 1:]  # Excluding intercept\n",
    "\n",
    "# Ensure correct matrix multiplication\n",
    "W1 = model.params[1:].T @ np.linalg.inv(var_beta_hat_reduced) @ model.params[1:]\n",
    "\n",
    "# Compute p-value\n",
    "p_value_W1 = 1 - chi2.cdf(W1, df=k-1)\n",
    "\n",
    "print(\"Wald Statistic (H0: β1 = 0, β2 = 0, β3 = 0):\", W1)\n",
    "print(\"p-value:\", p_value_W1)\n"
   ]
  },
  {
   "cell_type": "code",
   "execution_count": 35,
   "id": "935724bf-2837-4dc2-984e-3bdb432e9968",
   "metadata": {},
   "outputs": [
    {
     "name": "stdout",
     "output_type": "stream",
     "text": [
      "Wald Statistic (H0: β2 = 0, β3 = 0): 1291.8621329525445\n",
      "P-Value: 0.0\n"
     ]
    }
   ],
   "source": [
    "# 9. Compute Wald test for H0: β2 = 0, β3 = 0\n",
    "R2 = np.eye(k-1)  # Only the last two coefficients\n",
    "W2 = model.params[1:].T @ np.linalg.inv(R2 @ var_beta_hat[1:, 1:] @ R2.T) @ model.params[1:]\n",
    "p_value_W2 = 1 - chi2.cdf(W2, df=k-2)\n",
    "print(\"Wald Statistic (H0: β2 = 0, β3 = 0):\", W2)\n",
    "print(\"P-Value:\", p_value_W2)"
   ]
  },
  {
   "cell_type": "code",
   "execution_count": 37,
   "id": "d6576f71-ca17-46d8-b779-1faabca309df",
   "metadata": {},
   "outputs": [
    {
     "name": "stdout",
     "output_type": "stream",
     "text": [
      "Wald Statistic (H0: β2 + β3 = 1): 0.14140646378643845\n",
      "P-Value: 0.7068867812182436\n"
     ]
    }
   ],
   "source": [
    "# 10. Compute Wald test for H0: β2 + β3 = 1\n",
    "R3 = np.array([[0, 1, 1]])  # Testing β2 + β3 = 1\n",
    "c = np.array([1])  # Restriction value\n",
    "W3 = (R3 @ model.params - c).T @ np.linalg.inv(R3 @ var_beta_hat @ R3.T) @ (R3 @ model.params - c)\n",
    "p_value_W3 = 1 - chi2.cdf(W3, df=1)\n",
    "print(\"Wald Statistic (H0: β2 + β3 = 1):\", W3)\n",
    "print(\"P-Value:\", p_value_W3)"
   ]
  },
  {
   "cell_type": "code",
   "execution_count": null,
   "id": "6b595e32-3637-4080-9d09-785c0d9f0d19",
   "metadata": {},
   "outputs": [],
   "source": []
  }
 ],
 "metadata": {
  "kernelspec": {
   "display_name": "Python 3 (ipykernel)",
   "language": "python",
   "name": "python3"
  },
  "language_info": {
   "codemirror_mode": {
    "name": "ipython",
    "version": 3
   },
   "file_extension": ".py",
   "mimetype": "text/x-python",
   "name": "python",
   "nbconvert_exporter": "python",
   "pygments_lexer": "ipython3",
   "version": "3.12.4"
  }
 },
 "nbformat": 4,
 "nbformat_minor": 5
}
