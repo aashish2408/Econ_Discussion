{
 "cells": [
  {
   "cell_type": "code",
   "execution_count": 126,
   "id": "ec815fc9-2948-41d8-a2d0-28db43cab2de",
   "metadata": {},
   "outputs": [],
   "source": [
    "import numpy as np\n",
    "import matplotlib.pyplot as plt\n",
    "import seaborn as sns\n",
    "from scipy.stats import norm, chi,chi2, uniform, stats"
   ]
  },
  {
   "cell_type": "code",
   "execution_count": 128,
   "id": "3c7feb56-62a6-402e-bcf5-2f102e5a5b8b",
   "metadata": {},
   "outputs": [],
   "source": [
    "x = np.random.normal(1,1,25)\n",
    "m = np.mean(x, axis = 0)\n",
    "v = np.var(x, axis = 0, ddof =1)"
   ]
  },
  {
   "cell_type": "code",
   "execution_count": 130,
   "id": "3898f2c6-a541-48e0-9f44-f422017c0c11",
   "metadata": {},
   "outputs": [
    {
     "name": "stdout",
     "output_type": "stream",
     "text": [
      "0.9570703215889088\n",
      "0.6866740052090646\n"
     ]
    }
   ],
   "source": [
    "print(m)\n",
    "print(v)"
   ]
  },
  {
   "cell_type": "code",
   "execution_count": 132,
   "id": "b0f2e925-dcf8-4be0-9049-49ee873f5e1b",
   "metadata": {},
   "outputs": [
    {
     "name": "stdout",
     "output_type": "stream",
     "text": [
      "Chi-Square Test Statistic: 16.48017612501755\n"
     ]
    }
   ],
   "source": [
    "n = 25\n",
    "b = []\n",
    "chi_square_test = (n-1)*v/1\n",
    "print(\"Chi-Square Test Statistic:\",chi_square_test)"
   ]
  },
  {
   "cell_type": "code",
   "execution_count": 134,
   "id": "d55f1b56-4c0f-4e60-b4b0-ab986cf5272d",
   "metadata": {},
   "outputs": [
    {
     "name": "stdout",
     "output_type": "stream",
     "text": [
      "Chi-Square p-value: 0.8699699385996673\n"
     ]
    }
   ],
   "source": [
    "print(\"Chi-Square p-value:\", 1 - chi2.cdf(chi_square_test, df=n-1))"
   ]
  },
  {
   "cell_type": "code",
   "execution_count": 136,
   "id": "70bfdded-e63b-41db-882a-30e9163aa79b",
   "metadata": {},
   "outputs": [
    {
     "name": "stdout",
     "output_type": "stream",
     "text": [
      "t-Test Statistic: -0.25903135418426715\n"
     ]
    }
   ],
   "source": [
    "t_test = np.sqrt(n) * (m - 1) / np.sqrt(v)\n",
    "print(\"t-Test Statistic:\", t_test)\n"
   ]
  },
  {
   "cell_type": "code",
   "execution_count": 138,
   "id": "f7fd4947-19b8-40ad-8918-b5a7dee27ea4",
   "metadata": {},
   "outputs": [
    {
     "name": "stdout",
     "output_type": "stream",
     "text": [
      "t-Test Statistic: -0.2590\n"
     ]
    }
   ],
   "source": [
    "print(\"t-Test Statistic: {:.4f}\".format(t_test))\n",
    "\n",
    "\n"
   ]
  },
  {
   "cell_type": "code",
   "execution_count": 140,
   "id": "bc7441d8-9d83-4bc6-87cf-df1b9c1a457d",
   "metadata": {},
   "outputs": [],
   "source": [
    "X = np.random.normal(1, 1, 25)\n",
    "X_bar = np.mean(X)\n",
    "S2 = np.var(X, ddof=1)\n"
   ]
  },
  {
   "cell_type": "code",
   "execution_count": 142,
   "id": "d0e08979-0380-46f0-8b96-ed3ce11f3e31",
   "metadata": {},
   "outputs": [],
   "source": [
    "z_stat = np.sqrt(n) * (X_bar - 1) / 1\n",
    "from scipy.stats import norm"
   ]
  },
  {
   "cell_type": "code",
   "execution_count": 124,
   "id": "c9415aa0-4635-4d20-bd00-b91c66fa6e43",
   "metadata": {},
   "outputs": [
    {
     "ename": "AttributeError",
     "evalue": "`scipy.stats.stats` has no attribute `norm`; furthermore, `scipy.stats.stats` is deprecated and will be removed in SciPy 2.0.0.",
     "output_type": "error",
     "traceback": [
      "\u001b[1;31m---------------------------------------------------------------------------\u001b[0m",
      "\u001b[1;31mAttributeError\u001b[0m                            Traceback (most recent call last)",
      "Cell \u001b[1;32mIn[124], line 1\u001b[0m\n\u001b[1;32m----> 1\u001b[0m z_ci \u001b[38;5;241m=\u001b[39m (X_bar \u001b[38;5;241m-\u001b[39m stats\u001b[38;5;241m.\u001b[39mnorm\u001b[38;5;241m.\u001b[39mppf(\u001b[38;5;241m0.975\u001b[39m) \u001b[38;5;241m*\u001b[39m \u001b[38;5;241m1\u001b[39m \u001b[38;5;241m/\u001b[39m np\u001b[38;5;241m.\u001b[39msqrt(n), X_bar \u001b[38;5;241m+\u001b[39m stats\u001b[38;5;241m.\u001b[39mnorm\u001b[38;5;241m.\u001b[39mppf(\u001b[38;5;241m0.975\u001b[39m) \u001b[38;5;241m*\u001b[39m \u001b[38;5;241m1\u001b[39m \u001b[38;5;241m/\u001b[39m np\u001b[38;5;241m.\u001b[39msqrt(n))\n\u001b[0;32m      2\u001b[0m \u001b[38;5;28mprint\u001b[39m(\u001b[38;5;124m\"\u001b[39m\u001b[38;5;124mZ-Test Statistic:\u001b[39m\u001b[38;5;124m\"\u001b[39m, z_stat)\n\u001b[0;32m      3\u001b[0m \u001b[38;5;28mprint\u001b[39m(\u001b[38;5;124m\"\u001b[39m\u001b[38;5;124m95\u001b[39m\u001b[38;5;124m%\u001b[39m\u001b[38;5;124m Confidence Interval (known sigma):\u001b[39m\u001b[38;5;124m\"\u001b[39m, z_ci)\n",
      "File \u001b[1;32m~\\anaconda3\\Lib\\site-packages\\scipy\\stats\\stats.py:50\u001b[0m, in \u001b[0;36m__getattr__\u001b[1;34m(name)\u001b[0m\n\u001b[0;32m     49\u001b[0m \u001b[38;5;28;01mdef\u001b[39;00m \u001b[38;5;21m__getattr__\u001b[39m(name):\n\u001b[1;32m---> 50\u001b[0m     \u001b[38;5;28;01mreturn\u001b[39;00m _sub_module_deprecation(sub_package\u001b[38;5;241m=\u001b[39m\u001b[38;5;124m\"\u001b[39m\u001b[38;5;124mstats\u001b[39m\u001b[38;5;124m\"\u001b[39m, module\u001b[38;5;241m=\u001b[39m\u001b[38;5;124m\"\u001b[39m\u001b[38;5;124mstats\u001b[39m\u001b[38;5;124m\"\u001b[39m,\n\u001b[0;32m     51\u001b[0m                                    private_modules\u001b[38;5;241m=\u001b[39m[\u001b[38;5;124m\"\u001b[39m\u001b[38;5;124m_stats_py\u001b[39m\u001b[38;5;124m\"\u001b[39m], \u001b[38;5;28mall\u001b[39m\u001b[38;5;241m=\u001b[39m__all__,\n\u001b[0;32m     52\u001b[0m                                    attribute\u001b[38;5;241m=\u001b[39mname)\n",
      "File \u001b[1;32m~\\anaconda3\\Lib\\site-packages\\scipy\\_lib\\deprecation.py:42\u001b[0m, in \u001b[0;36m_sub_module_deprecation\u001b[1;34m(sub_package, module, private_modules, all, attribute, correct_module)\u001b[0m\n\u001b[0;32m     39\u001b[0m     correct_import \u001b[38;5;241m=\u001b[39m \u001b[38;5;124mf\u001b[39m\u001b[38;5;124m\"\u001b[39m\u001b[38;5;124mscipy.\u001b[39m\u001b[38;5;132;01m{\u001b[39;00msub_package\u001b[38;5;132;01m}\u001b[39;00m\u001b[38;5;124m\"\u001b[39m\n\u001b[0;32m     41\u001b[0m \u001b[38;5;28;01mif\u001b[39;00m attribute \u001b[38;5;129;01mnot\u001b[39;00m \u001b[38;5;129;01min\u001b[39;00m \u001b[38;5;28mall\u001b[39m:\n\u001b[1;32m---> 42\u001b[0m     \u001b[38;5;28;01mraise\u001b[39;00m \u001b[38;5;167;01mAttributeError\u001b[39;00m(\n\u001b[0;32m     43\u001b[0m         \u001b[38;5;124mf\u001b[39m\u001b[38;5;124m\"\u001b[39m\u001b[38;5;124m`scipy.\u001b[39m\u001b[38;5;132;01m{\u001b[39;00msub_package\u001b[38;5;132;01m}\u001b[39;00m\u001b[38;5;124m.\u001b[39m\u001b[38;5;132;01m{\u001b[39;00mmodule\u001b[38;5;132;01m}\u001b[39;00m\u001b[38;5;124m` has no attribute `\u001b[39m\u001b[38;5;132;01m{\u001b[39;00mattribute\u001b[38;5;132;01m}\u001b[39;00m\u001b[38;5;124m`; \u001b[39m\u001b[38;5;124m\"\u001b[39m\n\u001b[0;32m     44\u001b[0m         \u001b[38;5;124mf\u001b[39m\u001b[38;5;124m\"\u001b[39m\u001b[38;5;124mfurthermore, `scipy.\u001b[39m\u001b[38;5;132;01m{\u001b[39;00msub_package\u001b[38;5;132;01m}\u001b[39;00m\u001b[38;5;124m.\u001b[39m\u001b[38;5;132;01m{\u001b[39;00mmodule\u001b[38;5;132;01m}\u001b[39;00m\u001b[38;5;124m` is deprecated \u001b[39m\u001b[38;5;124m\"\u001b[39m\n\u001b[0;32m     45\u001b[0m         \u001b[38;5;124mf\u001b[39m\u001b[38;5;124m\"\u001b[39m\u001b[38;5;124mand will be removed in SciPy 2.0.0.\u001b[39m\u001b[38;5;124m\"\u001b[39m\n\u001b[0;32m     46\u001b[0m     )\n\u001b[0;32m     48\u001b[0m attr \u001b[38;5;241m=\u001b[39m \u001b[38;5;28mgetattr\u001b[39m(import_module(correct_import), attribute, \u001b[38;5;28;01mNone\u001b[39;00m)\n\u001b[0;32m     50\u001b[0m \u001b[38;5;28;01mif\u001b[39;00m attr \u001b[38;5;129;01mis\u001b[39;00m \u001b[38;5;129;01mnot\u001b[39;00m \u001b[38;5;28;01mNone\u001b[39;00m:\n",
      "\u001b[1;31mAttributeError\u001b[0m: `scipy.stats.stats` has no attribute `norm`; furthermore, `scipy.stats.stats` is deprecated and will be removed in SciPy 2.0.0."
     ]
    }
   ],
   "source": [
    "\n",
    "z_ci = (X_bar - stats.norm.ppf(0.975) * 1 / np.sqrt(n), X_bar + stats.norm.ppf(0.975) * 1 / np.sqrt(n))\n",
    "print(\"Z-Test Statistic:\", z_stat)\n",
    "print(\"95% Confidence Interval (known sigma):\", z_ci)\n"
   ]
  },
  {
   "cell_type": "code",
   "execution_count": null,
   "id": "bd66b2ea-65d1-40f6-b81a-032d59ae1595",
   "metadata": {},
   "outputs": [],
   "source": []
  }
 ],
 "metadata": {
  "kernelspec": {
   "display_name": "Python 3 (ipykernel)",
   "language": "python",
   "name": "python3"
  },
  "language_info": {
   "codemirror_mode": {
    "name": "ipython",
    "version": 3
   },
   "file_extension": ".py",
   "mimetype": "text/x-python",
   "name": "python",
   "nbconvert_exporter": "python",
   "pygments_lexer": "ipython3",
   "version": "3.12.4"
  }
 },
 "nbformat": 4,
 "nbformat_minor": 5
}
